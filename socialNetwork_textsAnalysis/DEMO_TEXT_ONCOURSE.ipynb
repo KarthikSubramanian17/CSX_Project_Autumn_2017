{
 "cells": [
  {
   "cell_type": "markdown",
   "metadata": {},
   "source": [
    "### Intro\n",
    "1. Scrape news and discussions from social network - PTT.\n",
    "2. Extract infomations from articles.\n",
    "3. Use Gensim."
   ]
  },
  {
   "cell_type": "code",
   "execution_count": 2,
   "metadata": {},
   "outputs": [],
   "source": [
    "#encoding=utf-8\n",
    "import re\n",
    "import nltk\n",
    "import json\n",
    "import jieba.analyse\n",
    "import jieba\n",
    "import re\n",
    "import gensim.models"
   ]
  },
  {
   "cell_type": "code",
   "execution_count": 3,
   "metadata": {
    "collapsed": true
   },
   "outputs": [],
   "source": [
    "from demo_StringAnalyzer import StringAnalyzer\n",
    "S = StringAnalyzer()"
   ]
  },
  {
   "cell_type": "code",
   "execution_count": 4,
   "metadata": {
    "scrolled": true
   },
   "outputs": [
    {
     "name": "stdout",
     "output_type": "stream",
     "text": [
      "Processing index: 9600\n",
      "Processing article: M.1512209637.A.C5A\n",
      "Processing article: M.1512209641.A.9FB\n",
      "Processing article: M.1512212100.A.A90\n",
      "Processing article: M.1512212798.A.00A\n",
      "Processing article: M.1512213097.A.ABA\n",
      "Processing article: M.1512214466.A.9BA\n",
      "Processing article: M.1512214600.A.400\n",
      "Processing article: M.1512214611.A.DCF\n",
      "Processing article: M.1512215787.A.89A\n",
      "Processing article: M.1512217390.A.87E\n",
      "Processing article: M.1512217856.A.E53\n",
      "Processing article: M.1512217940.A.A89\n",
      "Processing article: M.1512218349.A.946\n",
      "Processing article: M.1512219376.A.408\n",
      "Processing article: M.1512219552.A.7E3\n",
      "Processing article: M.1512219625.A.250\n",
      "Processing article: M.1512219673.A.8C5\n",
      "Processing article: M.1512219703.A.2E7\n",
      "Processing article: M.1512219714.A.D0B\n",
      "Processing article: M.1512219901.A.314\n",
      "Processing index: 9601\n",
      "Processing article: M.1512220156.A.BF5\n",
      "Processing article: M.1512220174.A.FCC\n",
      "Processing article: M.1512220804.A.B6D\n",
      "Processing article: M.1512221609.A.334\n",
      "Processing article: M.1512221869.A.161\n",
      "Processing article: M.1512221982.A.F7E\n",
      "Processing article: M.1512222577.A.ED2\n",
      "Processing article: M.1512223221.A.815\n",
      "Processing article: M.1512223306.A.D71\n",
      "Processing article: M.1512223347.A.17D\n",
      "Processing article: M.1512223376.A.6B2\n",
      "Processing article: M.1512224141.A.C55\n",
      "Processing article: M.1512224853.A.6DB\n",
      "Processing article: M.1512225287.A.7B4\n",
      "Processing article: M.1512227037.A.118\n",
      "Processing article: M.1512227313.A.3C4\n",
      "Processing article: M.1512227447.A.729\n",
      "Processing article: M.1512227887.A.668\n",
      "Processing article: M.1512228236.A.DD9\n",
      "Processing article: M.1512228324.A.94B\n"
     ]
    },
    {
     "data": {
      "text/plain": [
       "'.\\\\lol-9600-9601.json'"
      ]
     },
     "execution_count": 4,
     "metadata": {},
     "output_type": "execute_result"
    }
   ],
   "source": [
    "# Scrape Data From PTTWeb\n",
    "# Target Board => lol\n",
    "# Target From 9600 To 9620\n",
    "from PttWebCrawler.crawler import *\n",
    "c = PttWebCrawler(as_lib=True)\n",
    "c.parse_articles(board='lol', start=9600, end=9601)"
   ]
  },
  {
   "cell_type": "code",
   "execution_count": 5,
   "metadata": {},
   "outputs": [
    {
     "name": "stdout",
     "output_type": "stream",
     "text": [
      "Total articles: 40\n"
     ]
    }
   ],
   "source": [
    "# Read Data\n",
    "with open('./lol-9600-9601.json', encoding='utf-8') as data_file:\n",
    "    raw_json=json.load(data_file)\n",
    "print('Total articles:', len(raw_json['articles']))"
   ]
  },
  {
   "cell_type": "code",
   "execution_count": 6,
   "metadata": {},
   "outputs": [
    {
     "name": "stderr",
     "output_type": "stream",
     "text": [
      "Building prefix dict from the default dictionary ...\n",
      "Loading model from cache C:\\Users\\asus\\AppData\\Local\\Temp\\jieba.cache\n",
      "Loading model cost 0.708 seconds.\n",
      "Prefix dict has been built succesfully.\n"
     ]
    }
   ],
   "source": [
    "# Process Data\n",
    "articles = raw_json['articles']\n",
    "articles_collector = []\n",
    "for i in range(len(articles)):\n",
    "    articles_collector.append(S.string_cutter(articles[i]['content'])[0])"
   ]
  },
  {
   "cell_type": "code",
   "execution_count": 7,
   "metadata": {},
   "outputs": [
    {
     "name": "stdout",
     "output_type": "stream",
     "text": [
      "Word2Vec(vocab=2357, size=100, alpha=0.025)\n",
      "['非原標', '1201KeSPACupktRolstervsSamsungGalaxy', '賽', '後', '影像', '採訪', '來源', 'httptvnavercomv2362719', '大家', '好', '我', '是', 'ktRolster', '的', '上路', 'Smeb', '宋', '坰', '浩', '成功', '進入', 'KeSPACUP', '決賽', '感想', '我們', '去年', '五位', '隊員', '再次', '聚首', '第一', '個', '目標', '就是', '拿下', 'KeSPACup', '冠軍在', '四強', '遇上', '強隊', '三星', '能', '在', '這裡', '贏下', '來', '非常', '開心', '可以', '說', '這是', '世界', '冒泡', '復', '仇之戰', '奪', '走', '很多', '東西', '隊伍', '當然', '很', '想贏', '他們', '但', '以', '剛從', '賽回', '版本', '適應', '上並', '不', '容易', '所以', '我覺', '得', '真正', '仇戰', '新賽', '季以', '這次', '勝利為', '基石', '明年', '賽季', '必然', '要', '沒', '有', '選手', '變動', '地征', '戰下個', '呢', '不管', '怎麼', '到', '最高', '位置', '為', '而', '聚在一起', '今年', '打出', '不好', '成績', '分飛', '之前', '再試', '一次', '吧', '這樣', '想法', '一起', '打比賽', '了', '非', '季賽', '期間', '團隊', '合作', '努力', '事', '嗎', '現在', '還沒能', '去', '團建', '其他', '仍', '稍微', '休息', '中', '比起', '率先', '開始', '準備', '擁有', '有利', '點以', '這點', '基礎', '冠軍想', '聽', '聽面', '對', '決心', '無論', '如何', '從四強', '真的', '就', '像', '一樣', '都', '會', '遇到', '覺得', 'LongzhuSKT', '誰', '晉級', '強的', '反正', '冠', '軍', '打好', '才', '行', '最後想', '話', '總是', '感謝', '應援', '粉絲們', '想到', '那個', '說現', '鼎立', '說法', '季裡', '一個', '拿到', '一定', '冠軍會', '盡力', '成為', '列入', '四支', 'kt', '一直', '抓', '他', '訪問', 'OvOkt', '沒別', '人', '逆', 'OAO', '那些', '關於', '你', '們', '故事', 'httpsimgurcomol6M4vf', '當初', '打', '完', '15', '回來', '電狼及', 'CYO', '被', 'PTT', '噴到', '歪頭些', '許時', '日後四葉', '見', '機出', '澄清', '也', '許是', '念', '同事', '一場', '即使', '冒著', '噴歪', '風險', '四葉', '卻', '仍然', '不斷', '幫', '護航', '做事', '結果', '不出', '月', '直接', '幹', '搞', '護航成', '笑', '要是', '早知', '恐怕', '把', '當棄子', '說四葉', '是不是', '耍', 'httpsgooglfuux2XhttpsiimgurcomDrnYeb9jpg', '高雄', '夢', '時代見', '面會', '各位', '陪伴', '度過', '歡笑', '與', '低潮', '見證', '離別', '改變', 'Cyo', '證明', '自己', '身價果', '斷離', '開閃', '電狼以', '驚人', '資歷', '想必', 'LCKNA', '必定', '流著', '口水', '想簽', '這個', 'iem', '冠軍教練', '秒', '簽嗎', 'SKTCyoSentfrommyAndroid', '新頭', '殼', 'newtalk', '蔡幸秀', '高雄市', '報導', '發布', '201712021855', '今', '2', '日台灣', '職業電', '競隊伍', '閃電狼', '時代', '舉行', '粉絲見', '面會並', '宣布', '轉會', '消息', '當家', '打野', 'Karsa', '洪浩軒', '離隊', '特別', '接受', '專訪', 'Q', '什麼', '選擇', '離開', 'LMS', '即', '將要', '賽區', '別', '希望', '能夠', '更加', '進步', '因為', '待', '過得', '有點', '太', '安逸', '處', '聯賽', '地位', '點', '鬆', '懈', '想要', '精進', '太過', '舒適', '環境', '挑戰', '極限', '出去', '闖', '看', '想', '追求', '更好', '即將', '熟悉', '會不會', '擔心', '家人', '看法', '又', '多多少少', '還是', '啦', '呃', '其實', '好像', '大概', '頂多', '放假', '時候', '不到', '和', '朋友', '會覺', '難過', '但是', '滿', '支持', '做', '事情', '確切', '時間點', '於', '明星', '賽結束', '之', '過去', '將離', '電狼隊', '友有', '沒有', '表達過', '之間', '不太會講', '這種', '不是', 'Style', '我們屬', '那種', '喔', '囉', 'Bye', '風格', '可能', '等到', '看看', '閃電狼會', '最', '捨', '不得', '哪一位', '隊友', '楓棠', 'Maple', '呆', '平常', '笨', '吐', '槽', '他現', '角色', '怕', '笨會', '孤單', '至於', '其他人', '自立', '自強', '不太', '需要', 'QKarsa', '曾經', 'NL', '過少', '玉米', '蛋餅', '知道', '將離開', '曾', '經開台', '感嘆過', '請問', '離', '甚麼', '不過', '好好', '保重', '身體', '退役', '不能', '當選手', '未來', '實況', '界', '越來', '越紅', '印象', '深刻', '回憶', 'IEM', '國際', '邀請賽', 'TPA', '讓', '二', '追', '三', '那次', '那', '第一次', '大賽', '勝利然', '加入', '職業', '跟', '大', '舞台', '上', '勝利', '而且', '隊', '內', '每天', '感情', '很長', '一段', '時間', '閃', '電狼裡', '面學到', '學到', '滿多', '態度', '技術', '整體', '提升', '叉', '燒戰馬', '牛排', '教', '經理', '每次', '表現', '理想', '討論', '時刻', '我會', '通常', '記得', '相信', '留下', '遺憾', 'S6S7', 'S6', '場我們', '機會', '放掉', 'S7', '每', '一位', '道', 'MMD', '不要', '那麼', '愛哭', '嘛', '不錯', '差', '做好', '只是', '引導', '一下', '新', '剛開始', '搭配', '玩', '教新', '中野', '變得', '倆', '強對', 'Betty', '年紀', '還小', '經驗', '還不夠', '緊張', '嘴巴', '總', '沒事', '腳', '抖', '比較', '天分', '打久', '變強', '在意', '往前', 'SwordArT', '蛇', '完全', '性格', '不論', '教練', '罵', '或者', '路', '嘴', '砲', '不會', '生氣', '從', '看過', '目前', '遭受', '許多', '抨擊', '評論', '看待', '正常', '競技類', '本來', '成王敗', '寇輸', '噴然', '輸', '必須', '親自去', '面對', '不覺', '這些', '留言', '有什麼', '看個', '面', '調適', '心態', '遇過', '有人', '不在意', '活在', '然後過', '很快', '樂', '錯', '臉', '哪裡', '盡', '改變並', '它', 'QS7', '除了', '最後一場', '打得', '放不開', '訓練賽', '這類', '問題', '敢', '一上台', '失誤', '引響', '戰局', '畏畏', '縮縮', '辦法放', '開手', '賽場', '哪位', 'GAM', 'Levi', 'MSI', '季中賽', '互相', '加', '臉書', '好友', '私下', '聊滿', '多天', '教會', '像是', '進攻性', '打法', '甚至', '還有', '刷', '野路線', '分享', '他人', '英雄', '聯盟', '你將', '代表', '出征', '對此', '身處', '不同', '難', '協調', '團練當', '上班', 'ahq', '湊', '打算', '盡量', '保持', '好個', '狀態', '然後去', '那邊', '再', '辦法', '硬練個', '幾場', '以來', '粉絲', '說些', '以後在', '加油', '鼓勵', 'httpsnewtalktwnewsview20171202105704k10055960', '轉錄', '至', '看板', 'FlashWolves12022112', '畢冊', '補', '兩人', '只', '聽過', '另', '講解', '新進', '來歷', '部分', '到底', '加分', '扣分', '借將', '剛好', '適逢', '兩名', '戰將', '強勢', '回歸', '讓鬱鬱', '不得志', '板凳', '沉寂', '多時', '呂福練', '一展', '長', '不僅', '私底下', '約', '談', '更', '全面', '接收', '咖哥', '一手', '打下', '地盤', '4', '開始後悔', '跳', 'Game', '快', '半年前', '看出', '會出', '人頭', '地', '當時', '鄉民們', '笑笑', '世有伯樂', '然後有', '千里', '馬', '常有', '而伯樂', '早就', '必有', '蹊翹', '果不其然', '接手', '位子', '還', '不得不', '跳槽', '倒', '回應眾', '鄉民', '一件', '是否', '先知', '沒人', '哪', '英文', '臨場', '失常', '這鍋', '背', '重點', '換成', '東東', '替', 'AD', '當教練', '沒經驗', '表示', '很大', '時', '洛杉磯', '完直', '飛中國', '意義', '附近', '感覺', '北美', '啊', '機率', 'RT', '隊換', '下去', '小小', '期待', '八強', '雖然', '不受', '傷害', '應該', '放一點', 'SentfromJPTTonmySamsungSMJ330G', '聽到', '左', '二老', '師離隊', '史蒂芬', '我大', '吃', '一驚', '老師', '戰績', '不多述', '數也數', '完俗', '說治國', '經邦', '人才', '急', '放出', '咖撒元', '氣大傷', '不願', '師', '電狼', '高層', '已經', '無奈', '師乃', '翱翔', '藍天', '鴻', '鵠', '飛進', '因此', '自滿現', '尋伯樂', '電狼眾', '燕雀', '為伍', '有多強', '戰隊', '留不住', '鄉民能', '開示', '五樓', '支援', '大苑子', '台中市', '府', '店昕佑', '店員搖', '飲料', '圖', '最近', '各隊', '補強', '名單', '差不多', '出來', '下', '一季', '前段', '班會', '不大', 'ahqfwm17', '大換', '血', 'JT', '大將', '花輪', 'HKA', '60MSE', '靈魂', 'GREX', '余文樂', '潮流', 'MAD', '排', '樂透', '說明', '2017KeSPACup', 'ktvsLZBo51', '銀河', '艦隊', '勝', '六成', '老虎', 'LZ', '3', '廁所', '任一', '場遊戲', '結束', '55004', '打滿', '系列', '戰進入', '第五', '場開獎', '順序', '４', '３', '２', '１', '下注', '情況', '1', '13162', '12453', '2124', '779', '開獎', '12022017203218', '總額', '355200', '中獎', '比例', '張', '3552', '0219313', '每張', '彩券', '可得', '433Ptt', '幣', '開出', '彩金張', '433', '022henkyu', '買', '張銀河', 's6622156', '張廁', '所', 'wen52212', '6', '恭喜', 'airbear', '張打', '獲得', 'Minsyong5566', 'TerryTam', '5', '2165Ptt', 'wintergtr', 'rosalic0423', 'drraujn', '8', 'Egb8bSbO', '866Ptt', 'hiwaid', '10', '4330Ptt', 'SUfaree', 'luna2000sea', 'f222051618', 'albert350', 'TFsonG', '200', '86600Ptt', 'lynntmac05', 'Fe11111', 'mion0723', 'domo8505', 'DaiwaNWoIF', 'energyy1104', 'nyybos8812', 'nefancy', 'qwerpoiu123', '20', 'y2582292', 'fls', 'JKZion', 'ZhaShi', 'marquess2980', 'yusheng0423', 'cececcc', 'serenitymiss', '160', 'a3221715', '9', 'FayeOwO', 'your025', '1299Ptt', 'pool9898998', 'zack881024', 'talk5566', '50', 'D122', '100', 'johnnygenius', 'jay98100', 'larryleepig', 'cweilun', 'ashes0305', 's9540107', 'yuxuan', 'a100881', 'qazwsx879345', 'MadMinor', 'boryi', 'dunant', 'sfcmk2', 'amimimi', 'yfourone', '380', 'Nuey', 'Nivekush', '7', 'PaintCloud', 'garyeyes', 'JackTheRippe', 'Firstshadow', '120', '32', 'asd2260123', 'pentis', 'sam850718', 'l810502', 'puro', '43300Ptt', '40', '30', '12990Ptt', '8660Ptt', 'benjamin230', 'rayQuQ', 'Riankuo', 'HaiTurtle', 'moon128', 'wsmsnoopy', '12', 'ktkr8888', '5196Ptt', 's80554', 'atmcola', 'photon2015', 'dinter9921', 'ntnnthree', '150', '21650Ptt', 'andy5656', 'qaz960749', 'uglyfinger', 'j5464654', '444', 'Ashinjya', 'leafingv', 'RieX', 'York8213', 'aqqwww', 'a1234414', 'shineryu', 'SkyLoL7382', 'noname1111', 'sky47147', 'fire0520', 'star90237', 'fff88016', 'sevenine', 'ss38693', 'yam276', 'Chiayi0728', 'icefish', 'iovoecu', 'b2305911', 'cyclonelyr', 'shuoshuo5524', 'james8277', 'bikaru', 'j91526frank', 'ckdjqul78763', 'ununnihao', 'adam7148', 'vcxz5228', '23', 'henkyu', 'episode33487', 'MITjuching', 'restey', 'cooliceman', 'powerdavid', 'ms05605566', 'lowes', 'wutomy2000', 'dionting777', 'strangebean', 'sal60614', 'nanoshooter', 'Shushusnail', 'david543434', 'gigi1012', 'jimmy20642', 'ericf129', 'yachi081619', 'Froghao', 'sorrycar', '45', '19485Ptt', 'bcjohn', 'httpsgooglqAkiC3GrexGaming1', '分鐘', 'Hello', 'Toyz', '這應', '該', '算是', '專頁', '發言', '排除', '繼續', '方式', '深入', '了解', '運作', '及', '內部', '決定', '原因', '發文', '主要', '正', '正是', '簽約', '部份', '同時', '有所', '爭議', '這', '文章', '內容能', '所能', '解答', 'RG', 'GRex', '關注', '觀眾', '並不', '陌生', '三連', '出賽', 'S7WCS', '短短', '一年', '二連', '從次級', '躍', '升至', '季後賽', '成積', '滿意', '幾乎', '投放', '任何', '推廣選手', '工商', '演出', '等', '專注', '畢竟', '加盟', '英皇', '電競後隊', '伍', '核心', '依舊', '堅定', '全力支持', '所有', '你們', '2018', '年', '我們關', '方向', '我問', '答為', '韓援', '認為', '自', '國籍', '用', '著', '語言', '並非', '最好', '奈何', '本地', '較', '優秀', '並不多', '大多', '深厚', '很少', '會選擇', '轉隊', '如此', '一來', '少', '最終', '往外', '尋找', 'MSE', '轉生', '2015', '觀眾們', 'CandyStitchEmpt2y', '同一', '小', 'V', '缺少', '戰力', '透過', '韓國', '告知', '得知', '紛紛續', 'Stitch', '自由', '溝通過', '終達成', '協議', 'CJ', '剛', '解散', '裡面', '有位', 'Candy', '作為', '手', '實力', '經過', '回', '韓後個', '似乎', '維持', '韓服', 'TOP50', '經達', 'TOP2', '發展過', '物色', '達成', 'Empt2y', '考慮', '因素', '以及', '兩位', '並肩', '奮鬥過', '磨合', '幫助', '精通', '國語', '英語', '韓語', '香港', '差日語', '厲害', '剛剛', '提到', '語言上', '障礙', '既然', '找', '當務', '要解', '決隊', '伍內', '溝通', '溝通橋', '樑', '坦白', 'LCS', '聯盟化', 'NBA', '球隊', '導致', '市場', '價格', '白熱化', 'LPL', '程度', '追上', '薪資', '水平', '難度', '人選', '往往', '競價', 'Domo', '模式', '做法', '幾年', '告訴', '一貫', '俱樂部', '包括', '下會', '主教', '練', '三個', '副', '以單', '單', '形式', '針對', '路線作', '分析', '推動選', '手務求', '理解', '有何', '優缺', '從何', '改善目前', '中路', '或', '下路', '如果', '路線', '高端', '玩家', '自信', 'email', '履歷', '表給', 'Laba', 'Wuji', '但作', '頂', '尖', '更進', '一步', '旗下', '相同', '按照', '上場', '刺激', '推動', '對方', '講得', '遠', '不遠', '有意', '義了', '漸漸', '失去', '信心', '衝刺', 'S8', '高', '假如', '以上', '歡迎', '發問', '回答', '下台', '一', '鞠躬', '正在', '進行', 'KeSPA', '冠軍賽', '由', 'KTvsLZ', '兩隊', '沒進', '前面', '宇宙', 'KT', '連出國', '不行', '韓國國', '內賽', '分別', '屌', 'SSG', '亞軍', 'SKT', '打到', '場難', '分難', '搶', '巴龍', '偷', '遠古龍', '乾脆', '以後韓國', '當成', '現', '比', '484', '真', 'RKeSPA', '大賽還', '精彩', '如題', '順風', '破塔局', 'jg', '跑', '送頭然', '方看', '不見', '躲', '貓貓', '死', '搞笑', '阿有點', '無言耶口', '一年一度', '開打', '前個', '比賽', '地球', '測驗', '某些', '前', '資格賽', '而已', '果然', '最大', '團', '戰艦', '下凡', '虐殺', '眾生', '只好', '保送', '超級', '種子', '隊先', '人玩', '一玩練', '手感', '夠格', '酸民', '還敢', '酸', '殊不知', '人家', '超級種', '打哈欠', '外星人', '來給', '他電', '拿', '盃', '回頭', '隱藏', '種子隊', '前二起', '電狼起', '升級', '電狼換', '陣痛', '期絕', '看好', '起', '第三', 'JTM17JT', '多位', '變動陣', '痛期', '應能', '靠', '佛佛', '擋', '一陣', '相反', 'M17', '無成員', '可', '春季', '多勝場', '慢慢', '狀況', 'HKAGREXHKAS7', '夏季', '末', '爆氣', '不知', '曇花', '一現', '觀察名', '雖有', '隱憂', '大賽過', '多月', '終於', '參戰終', '彷', '彿', '不夠', '老婆', '回家吧', 'httpsiimgurcomGjp1GPDpnghttpsiimgurcomi59aWLOjpg', '豪感動', '阿剛剛', '心臟', '心動動', '心情', 'LZSSG', '通通', '給偶', '等等', '隨便', '抽', '位', '150P', 'httpsiimgurcom8kouvzkjpg12022017211809', '支出', '15036303480', '轉帳給', 'chunyo0229', '稅後', '13512022017211810', '15034803330', 'ccyi995', '15033303180', 'alonzohorse', '13512022017211811', '15031803030', '13512022017211812', '15030302880', '15028802730', 'GOD5566GOD', '13512022017211813', '15027302580', 'snowsummersp', '15025802430', 'nlhs21211', '13512022017211814', '15024302280', 'kaka880526', '13512022017211815', '15022802130', 'ZIQQ001', '135', '窮', '冠軍想發', '推', '還以', '當', '乞丐', '120221033000P', '發給', '幾位', 'ccyi995Ya12022103', '冠軍啦', '12022104', '錢給', 'KT12022104', 'NivekushKTKT', 'snowsummersp12022104', '錢', '爽', '12022105', '重整', '好不容易', '搶到', '總冠', 'KT12022109', '全部', '發送', '完畢', '稍後補', '交易', '記錄', '謝謝', '幾天', '論壇', '看到', '一款', '軟體', 'ModSkinPro', '遊戲', '使用', '造型', '其中', '一些', '製', '傳送們', '如下', 'httpleagueskinnetpdownloadmodskinlolpro2016chn', '只有', '炫富', '滿足', '教學', '點擊', 'DOWNLOADLOLPRO7238herehttpsimgurcomaM39j9', '安裝', '完成', '之後點', '開', '程式', 'httpsimgurcomaHjsCF', '點選', 'ACTIVESKINHEREhttpsimgurcomafVcUh', '進遊戲', '之後選擇', '隨便點', '完架', '有趣', '例如', '兵', '阿姆', '姆', 'httpsimgurcomaIW9Dh', '麥當', '勞薩科', 'httpsimgurcomauXjpf', '就算', '限定', '不成', '永恆榮耀克黎思妲', 'httpsimgurcomaNd7NY', '海', '克斯', '安妮', 'httpsimgurcomasdBZN', '歹', '捕', '如有', '違反版規', '自刪', '已知', '用火', '請', '鞭', '小力點', '真的假', '我還', '傻傻', '一堆', 'LZS7LCK', '賽冠', 'SSGS7', '威風', '久', '今天', '不負', '漂亮', '2017KeSPA', '結局', 'httpsgoogldRUfxcyulihong22', '傳染', '連哭', 'httpiimgurcom7xrjHK1jpg', 'httpsmweibocnstatus4180484810400835', '參加', '影馳', '嘉年華', '就要', 'WE', '小緊', '張不過', '解說', '很強', 'Rita', '小雨', '桑武漢', '阿奇爾', '蓋', '塔', '豹哥', 'R', '關住', '雷茲好', '運', '姊', '報表', '全員', '生還', '最後一波', '沒拿過', '冠軍豹', '哥', '功勞', '看似', '送頭', '膽大心', '細為', '生活', '忍', '大奶', 'httpimgurcomeFvSlacSentfrommyAndroid', '反串', 'LCK', 'SKTLZKTSSGSSG', '看得出', '贏了', '全隊', '還抱', '相較', '三隊', '選手贏', '這麼', '反應', 'SKT484LCK', '椅子', '蠻務實', '現實', '至少', '聲明', '講出', '作法', '很難', '不然', '不想', 'FOFO', '小安買', '話還', '背骨', '港仔', '想用', '能力', '整合', '節奏', '蠻', '喜歡', '文末', '講的', '衝擊', '愛錢', '清楚', '不曉得', '過動', '巨人', '再過', '團練', '參考', '積分', 'ZIV', '大師', '199httpwwwopggsummoneruserNamezivizivizivizKarsa', '369httpwwwopggsummoneruserNamekizunabcSwordArT', '165httpwwwopggsummoneruserNamefwswordartFoFo', '菁英', '523httpwwwopggsummoneruserNamefotuneBeBe', '鑽', '168', '0', 'v', 'bebehttpwwwopggsummoneruserName21132312414214httpwwwopggsummoneruserNamebb71', '看點', '第', 'FoFo', '強還', '過譽', '鄉民經常', 'Jteam', '拖', '腿', '場單', '挑', 'BjergsenBjergsen', '級', 'BeBe', '伊澤', '能鎖', '伊澤選', 'S2', '決以', '最愛說', '不會處', '下風', '重拾', '榮光', 'LoL', '生涯', '寫', '光輝', '一頁', 'httpsimgurcomSnjNN5t', '我加', '上去', '勤', 'REFRA1N', '菜', '鳥', 'Top', '咪咪', '蛋', '早晨', '沒救', 'JGMidMaple', '退化', '宏宏', '還頂', '住', 'Sup', '唯一', '穩定', 'JG', '肯定', '老大', '老二', 'ahqJT', '基本上', '只能', '爭', '老三', '閃電狼進', '不了', '賽四葉', '滾', '主', '揪', '者', 'IDbokuyooo', '伺服器', 'ServerTW', '團類', '型', '召喚', '峽谷', '一般', '對戰', '預計', '出團', '人數', '如', '缺', '聯絡', '推文', '水球', '站', '內信', '輕', 'NG', 'EQ', '還行', '打話', '待遇', '穿', '台灣', '薪水', '給不高', '國外', '五倍', '起跳', '中國開', '直播', '賺', '傻', '留台灣', '祝福', '卡薩', '一路', '順利', '國軍', '秒簽', 'lms', '賽教練', '西佑', '國軍會', 'httpsiimgurcomoDeon3JjpghttpsiimgurcomQSG1YKPjpg', '主遊戲', 'ID', '想當', '頻道', '連結', 'httpswwwtwitchtvtoyzttv', '內容', '簡介', '影片', 'HighLight', '等須', '超過', '正體', '文字', '開台', '拉', '下海', 'QQ', 'IDFVVBetty', 'ServerTWNAEUCNKR', 'httpswwwtwitchtvbetty206046', '回到', '台中', '訓練室', '平安', 'OPGGhttpwwwopggsummoneruserNamefvvbetty', '566', '分打', '雙排', '仔讀', '大學', '惹後面', 'CA', '出不來', '檢討室', '淦', 'ㄟ', '丶', 'i', 'ˋ', 'ij', 'ミ', '彡', 'rr', '\\\\', 'Blanki9Q', 'Bengi', 'ˊ', '剛釋', '出', '替補', '換一', '塔拉', 'i9Q', 'Kkoma', '篇', '送', 'ー', 'l', 'rl', '9QrlSmebrr', 'iPrayGorillaPeanut', '次級', '仔', '打贏', '三幻神', 'l9Qrr', 'PawnDeftKhani', 'ﾉ', '媽的', '還問', 'T', 'ヽ', 'へ', 'ノ', 'ﾞ', 'M', 'Ｋ', 'Ｔ', 'し', '網友', 'W', 'JThereisalwayssomekidwhomaybeseeingmeforthefirstorlasttimeIowehimmybestJoeDiMaggio', 'GREXJG', 'empt2', '說會', '四國語', '言中', '英', '韓粵請', '問賽場', '四國', '語言幹', 'CALL', '哪種', '中文', '總不會', '翻', '韓文給', '那台灣', '簡易', '那要', '韓文', '變化', '不統', '一溝', '通語', '言', '當溝', '通橋', '梁', '沙小', '尤其', '打不出', '第一季', '還沒開', '招黑', '這什麼', '行銷', '不起', '中國人', '同樣', '人間', '露璐給', '獨善', '其', '身活', '柔伊則', 'Jinx', '事物', '互動來', '謀求', '樂趣', '多', 'ω', 'bhttpsiimgurcomNHHi2nUjpgid66074796FB', '秋貓', '我畫', '故我在', 'httpsiimgurcomjwqOB6fpngid65800968httpsiimgurcomsmeO6xUjpgid65928824httpsiimgurcomQ3VbRUIjpgid65956478httpsiimgurcomLNJAVM9jpgid65999066httpsiimgurcomrMEnvnujpgFB', '全世界', '幸福', 'OwnGau', '豆漿濃', 'httpsiimgurcomE2t9O5Ojpgid66031586httpsiimgurcom0PtGCO1jpg', '附錄', '2ARAM', '日常', 'httpsiimgurcomdJZVSfgjpgFB', '克羅', '兔子', '人人', 'ˍ', 'ㄧ', 'Ο', 'nlyyoucanhearmeSummoner', 'IDBeQuietStt', '彈性', '銀牌', '左右', '佳', '法洛士體', '內住', '甲甲', '愛的', '力量', '對抗', '法洛士', '叫做', '破甲箭', '抗體', '甲拉', '標題', '猜', '謎', '籃球', '遲到', 'joke', '仙道', 'LOLMSE', '開同', '學會', '三老', '戰友', '再度', '記者', '陳', '耀宗', '台北', '日前', '港商', '電競買', 'RaiseGaming', '經營', '權並', '改名', 'GrexGaming', '人事', '重組', '至今', '韓籍', '外援', 'StitchCandy', '昨', '日', '簽下', '前華義', '三位', 'MidnightSunEsports', '當過', '戲稱', 'Grex', '根本', '06', '繼', '昨日', '官方', '公布', '下一波', 'Empt2yEmpt2y', '年伴', '隨業', '餘戰隊', 'NoGameNoLife', '預選賽', '打進', '擔任', '及隊', '一職', '年春夏', '兩季', '一共', '第六', '第四名', '此', '一出', '兩', '默契', '當年', '強悍', 'HKE', '冠軍選手', '虧', '派', '好吃', '；', '穩表現', '外界', '笑稱', '花式', '送龍', '上表', '達', '歸來', '老', '搭', '檔', '成熟', '不少', '兄弟', '未', '一齊', '重回', '春夏', '門票', '總監', '談到', '選時', '重視', '隊員間', '選會', '台港澳', '主不會', '輕易', '如今', '已', '老隊友', '許會', '比新隊', '友來', '快速', 'httpsportsltncomtwnewsbreakingnews2271388', 'FWMMD', '分', 'httpsnewtalktwnewsview20171202105726', '改組隊', '伍陣', '容煥然', '一新', '受到', '最多質疑', '莫過', '游立宏', '特別訪', '問到', '這位', '談論', '賽後的', '面臨', '改組', '還沒', '確定', '督促', '以前', '還不會', '感受', '壓力現', '我後面', '路要', '分配', '開隊', '當然會', '那麼強', '離開會', '影響', 'caller', '戰術', '一半', '決策', '小蛇', '輔助', '指揮', '上會', '進來', '新人', '還要', '觀察因', '怎麼樣', '找出', '方法', '一大', '支柱', '咖口', '力口', '暱稱', '練習', '發現', '變成', '坦克', '不會贏', '反而', '鬥士', '贏因', '有給', '一項', '功課', '用鬥士', 'carry', '依靠', '然後那', '400', '多分', '掉', '但現', '經習慣', '玩鬥士', '所撻伐', '對象', '翻看', '過這些', '針對性', '有些', '地方', '看不到', '所講', '全無', '道理', '我表現', '不如', '要不然', '除非', '很爛', '要承擔', '常常', '會講', '打快', '打之類', '然後我們', '顯得', '保守', '說過', '壓力', '犯', '錯誤', '再犯', '圍繞', '著下', '路展', '開然後因', '不太敢', '使得', '規賽', '落差', '賽時', '發生', '過什麼', '令', '前四葉', '珍惜', '五個', '每場', '負面', '哭', '較常', '這樣講', '傷心', '爭執', '當下', '出來然', '不太會', '難受', '會想', '明明', '作奸犯科', '殺', '放火', '還好', '要面', '而是', '接下', '關在', '房間裡', '面然', '人小劇場', '房間', '打開', '好多', '走出', '我媽', '她', '運動', '愛', '然', '妳', '妳自己', '媽媽會', '嗆', '兒子', '我講', '聊完', '人會', '先前', '60', '宣言', '奚落', '回應', '可是', '不用', '講什麼', '沒想', '會變', '成現', '意思', '考', '一百分', '恢', '還沒有', '集訓', '休', '天', '積假', '上面', '趕快', '放', '趁', '這時候', '處理', '假期', '隊友講', '要求', '新賽區', '狂野', '好風', '采對', '一點', '剛進', '下巴', '男現', '隻', '黑', '肥肥', '叫', '山豬', '了然', '冠軍然', '突破', '自我', '超越', '場合', '風采', '別人', '中站', '起來', '包辦', 'call', '佩服', '做出', '什麼樣', '展望', '陣容', '重新', '認同']\n"
     ]
    }
   ],
   "source": [
    "# train model\n",
    "model = gensim.models.Word2Vec(articles_collector, min_count=1)\n",
    "\n",
    "# summarize the loaded model\n",
    "print(model)\n",
    "\n",
    "# summarize vocabulary\n",
    "words = list(model.wv.vocab)\n",
    "print(words)"
   ]
  },
  {
   "cell_type": "code",
   "execution_count": 8,
   "metadata": {},
   "outputs": [
    {
     "name": "stderr",
     "output_type": "stream",
     "text": [
      "C:\\ProgramData\\Anaconda3\\lib\\site-packages\\ipykernel_launcher.py:1: DeprecationWarning: Call to deprecated `most_similar` (Method will be removed in 4.0.0, use self.wv.most_similar() instead).\n",
      "  \"\"\"Entry point for launching an IPython kernel.\n"
     ]
    },
    {
     "data": {
      "text/plain": [
       "[('的', 0.9932933449745178),\n",
       " ('也', 0.9902479648590088),\n",
       " ('在', 0.9901965856552124),\n",
       " ('說', 0.9900549054145813),\n",
       " ('是', 0.9897180795669556),\n",
       " ('我', 0.9894104599952698),\n",
       " ('我們', 0.9878701567649841),\n",
       " ('有', 0.9878364205360413),\n",
       " ('很', 0.9870700240135193),\n",
       " ('就', 0.9866956472396851)]"
      ]
     },
     "execution_count": 8,
     "metadata": {},
     "output_type": "execute_result"
    }
   ],
   "source": [
    "model.most_similar('選手')"
   ]
  },
  {
   "cell_type": "code",
   "execution_count": 9,
   "metadata": {},
   "outputs": [
    {
     "name": "stderr",
     "output_type": "stream",
     "text": [
      "C:\\ProgramData\\Anaconda3\\lib\\site-packages\\ipykernel_launcher.py:1: DeprecationWarning: Call to deprecated `most_similar` (Method will be removed in 4.0.0, use self.wv.most_similar() instead).\n",
      "  \"\"\"Entry point for launching an IPython kernel.\n"
     ]
    },
    {
     "data": {
      "text/plain": [
       "[('較', 0.49524134397506714),\n",
       " ('語言', 0.4844474494457245),\n",
       " ('9', 0.478514164686203),\n",
       " ('需要', 0.4555148482322693),\n",
       " ('實況', 0.448718786239624),\n",
       " ('等須', 0.4383857250213623),\n",
       " ('做好', 0.4379616379737854),\n",
       " ('AD', 0.43575266003608704),\n",
       " ('CYO', 0.4319218397140503),\n",
       " ('表現', 0.43087488412857056)]"
      ]
     },
     "execution_count": 9,
     "metadata": {},
     "output_type": "execute_result"
    }
   ],
   "source": [
    "model.most_similar('下巴')"
   ]
  },
  {
   "cell_type": "code",
   "execution_count": null,
   "metadata": {
    "collapsed": true
   },
   "outputs": [],
   "source": [
    "# Cut Words And Create Dictionary\n",
    "# 使用jieba.analyse進行關鍵詞抽取 https://github.com/fxsjy/jieba\n",
    "import jieba.analyse"
   ]
  }
 ],
 "metadata": {
  "kernelspec": {
   "display_name": "Python 3",
   "language": "python",
   "name": "python3"
  },
  "language_info": {
   "codemirror_mode": {
    "name": "ipython",
    "version": 3
   },
   "file_extension": ".py",
   "mimetype": "text/x-python",
   "name": "python",
   "nbconvert_exporter": "python",
   "pygments_lexer": "ipython3",
   "version": "3.6.3"
  }
 },
 "nbformat": 4,
 "nbformat_minor": 2
}
